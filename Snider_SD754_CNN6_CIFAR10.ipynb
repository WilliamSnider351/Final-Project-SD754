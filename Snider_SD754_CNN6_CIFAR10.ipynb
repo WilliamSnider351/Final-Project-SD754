{
  "nbformat": 4,
  "nbformat_minor": 0,
  "metadata": {
    "colab": {
      "provenance": [],
      "gpuType": "T4"
    },
    "kernelspec": {
      "name": "python3",
      "display_name": "Python 3"
    },
    "language_info": {
      "name": "python"
    },
    "accelerator": "GPU"
  },
  "cells": [
    {
      "cell_type": "code",
      "execution_count": 1,
      "metadata": {
        "id": "L6pvb_JQLT-z"
      },
      "outputs": [],
      "source": [
        "import torch\n",
        "import torch.nn as nn\n",
        "import torch.nn.functional as F\n",
        "import torch.optim as optim\n",
        "import torchvision\n",
        "import torchvision.transforms as transforms"
      ]
    },
    {
      "cell_type": "code",
      "source": [
        "transform_train = transforms.Compose([\n",
        "    transforms.RandomCrop(32, padding=4),\n",
        "    transforms.RandomHorizontalFlip(),\n",
        "    transforms.ToTensor(),\n",
        "    transforms.Normalize((0.5, 0.5, 0.5), (0.5, 0.5, 0.5))\n",
        "])\n",
        "\n",
        "transform_test = transforms.Compose([\n",
        "    transforms.ToTensor(),\n",
        "    transforms.Normalize((0.5, 0.5, 0.5), (0.5, 0.5, 0.5))\n",
        "])\n",
        "\n",
        "trainset = torchvision.datasets.CIFAR10(root='./data', train=True, download=True, transform=transform_train)\n",
        "train_loader = torch.utils.data.DataLoader(trainset, batch_size=64, shuffle=True)\n",
        "\n",
        "testset = torchvision.datasets.CIFAR10(root='./data', train=False, download=True, transform=transform_test)\n",
        "test_loader = torch.utils.data.DataLoader(testset, batch_size=64, shuffle=False)"
      ],
      "metadata": {
        "colab": {
          "base_uri": "https://localhost:8080/"
        },
        "id": "YNq0mkFRLVov",
        "outputId": "5493b4ee-593a-4f35-a484-35d51f109e25"
      },
      "execution_count": 2,
      "outputs": [
        {
          "output_type": "stream",
          "name": "stderr",
          "text": [
            "100%|██████████| 170M/170M [00:04<00:00, 42.0MB/s]\n"
          ]
        }
      ]
    },
    {
      "cell_type": "code",
      "source": [
        "class ImprovedCNN(nn.Module):\n",
        "    def __init__(self):\n",
        "        super(ImprovedCNN, self).__init__()\n",
        "\n",
        "        self.conv1 = nn.Conv2d(3, 32, 3, padding=1)\n",
        "        self.bn1 = nn.BatchNorm2d(32)\n",
        "\n",
        "        self.conv2 = nn.Conv2d(32, 64, 3, padding=1)\n",
        "        self.bn2 = nn.BatchNorm2d(64)\n",
        "\n",
        "        self.conv3 = nn.Conv2d(64, 128, 3, padding=1)\n",
        "        self.bn3 = nn.BatchNorm2d(128)\n",
        "\n",
        "        self.pool = nn.MaxPool2d(2, 2)\n",
        "        self.dropout = nn.Dropout(0.5)\n",
        "\n",
        "        self.fc1 = nn.Linear(128 * 4 * 4, 512)\n",
        "        self.fc2 = nn.Linear(512, 10)\n",
        "\n",
        "    def forward(self, x):\n",
        "        x = self.pool(F.relu(self.bn1(self.conv1(x))))\n",
        "        x = self.pool(F.relu(self.bn2(self.conv2(x))))\n",
        "        x = F.relu(self.bn3(self.conv3(x)))\n",
        "        x = self.pool(x)\n",
        "        x = x.view(-1, 128 * 4 * 4)\n",
        "        x = self.dropout(F.relu(self.fc1(x)))\n",
        "        x = self.fc2(x)\n",
        "        return x"
      ],
      "metadata": {
        "id": "xE8GHDpyLiAS"
      },
      "execution_count": 3,
      "outputs": []
    },
    {
      "cell_type": "code",
      "source": [
        "device = torch.device(\"cuda\" if torch.cuda.is_available() else \"cpu\")\n",
        "model = ImprovedCNN().to(device)\n",
        "\n",
        "criterion = nn.CrossEntropyLoss()\n",
        "optimizer = optim.Adam(model.parameters(), lr=0.001)"
      ],
      "metadata": {
        "id": "HqAhSaJ-Lm5l"
      },
      "execution_count": 4,
      "outputs": []
    },
    {
      "cell_type": "code",
      "source": [
        "epochs = 50\n",
        "for epoch in range(epochs):\n",
        "    model.train()\n",
        "    running_loss, correct, total = 0.0, 0, 0\n",
        "\n",
        "    for images, labels in train_loader:\n",
        "        images, labels = images.to(device), labels.to(device)\n",
        "\n",
        "        optimizer.zero_grad()\n",
        "        outputs = model(images)\n",
        "        loss = criterion(outputs, labels)\n",
        "        loss.backward()\n",
        "        optimizer.step()\n",
        "\n",
        "        running_loss += loss.item()\n",
        "        _, predicted = torch.max(outputs.data, 1)\n",
        "        total += labels.size(0)\n",
        "        correct += (predicted == labels).sum().item()\n",
        "\n",
        "    train_acc = correct / total\n",
        "\n",
        "    # Validation/Test\n",
        "    model.eval()\n",
        "    correct, total = 0, 0\n",
        "    with torch.no_grad():\n",
        "        for images, labels in test_loader:\n",
        "            images, labels = images.to(device), labels.to(device)\n",
        "            outputs = model(images)\n",
        "            _, predicted = torch.max(outputs.data, 1)\n",
        "            total += labels.size(0)\n",
        "            correct += (predicted == labels).sum().item()\n",
        "\n",
        "    test_acc = correct / total\n",
        "\n",
        "    print(f\"Epoch {epoch+1}/{epochs}, Loss: {running_loss:.4f}, Train Acc: {train_acc*100:.2f}%, Test Acc: {test_acc*100:.2f}%\")"
      ],
      "metadata": {
        "colab": {
          "base_uri": "https://localhost:8080/"
        },
        "id": "Hzy9MnhILwFN",
        "outputId": "2f076d97-e45d-4979-e84f-abed52cdb4cc"
      },
      "execution_count": 7,
      "outputs": [
        {
          "output_type": "stream",
          "name": "stdout",
          "text": [
            "Epoch 1/50, Loss: 239.5603, Train Acc: 89.38%, Test Acc: 85.27%\n",
            "Epoch 2/50, Loss: 244.4328, Train Acc: 89.22%, Test Acc: 86.19%\n",
            "Epoch 3/50, Loss: 239.6918, Train Acc: 89.44%, Test Acc: 85.96%\n",
            "Epoch 4/50, Loss: 242.0298, Train Acc: 89.23%, Test Acc: 86.07%\n",
            "Epoch 5/50, Loss: 238.6744, Train Acc: 89.43%, Test Acc: 85.92%\n",
            "Epoch 6/50, Loss: 244.7159, Train Acc: 89.32%, Test Acc: 85.95%\n",
            "Epoch 7/50, Loss: 239.1781, Train Acc: 89.36%, Test Acc: 85.96%\n",
            "Epoch 8/50, Loss: 237.0088, Train Acc: 89.47%, Test Acc: 86.25%\n",
            "Epoch 9/50, Loss: 236.5893, Train Acc: 89.47%, Test Acc: 86.50%\n",
            "Epoch 10/50, Loss: 238.0374, Train Acc: 89.27%, Test Acc: 85.80%\n",
            "Epoch 11/50, Loss: 237.8035, Train Acc: 89.33%, Test Acc: 85.90%\n",
            "Epoch 12/50, Loss: 233.3073, Train Acc: 89.56%, Test Acc: 85.84%\n",
            "Epoch 13/50, Loss: 228.4248, Train Acc: 89.84%, Test Acc: 85.95%\n",
            "Epoch 14/50, Loss: 236.7848, Train Acc: 89.40%, Test Acc: 86.03%\n",
            "Epoch 15/50, Loss: 235.4427, Train Acc: 89.41%, Test Acc: 86.35%\n",
            "Epoch 16/50, Loss: 229.5314, Train Acc: 89.94%, Test Acc: 86.27%\n",
            "Epoch 17/50, Loss: 229.6236, Train Acc: 89.77%, Test Acc: 86.10%\n",
            "Epoch 18/50, Loss: 232.6598, Train Acc: 89.77%, Test Acc: 85.85%\n",
            "Epoch 19/50, Loss: 227.4647, Train Acc: 89.92%, Test Acc: 85.91%\n",
            "Epoch 20/50, Loss: 228.6860, Train Acc: 89.82%, Test Acc: 86.17%\n",
            "Epoch 21/50, Loss: 231.1797, Train Acc: 89.65%, Test Acc: 86.20%\n",
            "Epoch 22/50, Loss: 230.8244, Train Acc: 89.67%, Test Acc: 85.88%\n",
            "Epoch 23/50, Loss: 224.5340, Train Acc: 89.97%, Test Acc: 86.02%\n",
            "Epoch 24/50, Loss: 227.5673, Train Acc: 89.93%, Test Acc: 86.07%\n",
            "Epoch 25/50, Loss: 223.7177, Train Acc: 90.11%, Test Acc: 86.00%\n",
            "Epoch 26/50, Loss: 222.9464, Train Acc: 90.04%, Test Acc: 86.24%\n",
            "Epoch 27/50, Loss: 228.4900, Train Acc: 89.88%, Test Acc: 86.08%\n",
            "Epoch 28/50, Loss: 224.0438, Train Acc: 90.02%, Test Acc: 85.94%\n",
            "Epoch 29/50, Loss: 223.8940, Train Acc: 90.11%, Test Acc: 86.18%\n",
            "Epoch 30/50, Loss: 223.5238, Train Acc: 89.93%, Test Acc: 86.45%\n",
            "Epoch 31/50, Loss: 220.8944, Train Acc: 90.22%, Test Acc: 86.00%\n",
            "Epoch 32/50, Loss: 218.5971, Train Acc: 90.18%, Test Acc: 86.36%\n",
            "Epoch 33/50, Loss: 220.4795, Train Acc: 90.02%, Test Acc: 86.07%\n",
            "Epoch 34/50, Loss: 220.7183, Train Acc: 90.21%, Test Acc: 86.12%\n",
            "Epoch 35/50, Loss: 220.2144, Train Acc: 90.06%, Test Acc: 86.21%\n",
            "Epoch 36/50, Loss: 217.5786, Train Acc: 90.28%, Test Acc: 86.57%\n",
            "Epoch 37/50, Loss: 219.4199, Train Acc: 90.22%, Test Acc: 86.24%\n",
            "Epoch 38/50, Loss: 217.6748, Train Acc: 90.44%, Test Acc: 86.21%\n",
            "Epoch 39/50, Loss: 218.5712, Train Acc: 90.33%, Test Acc: 86.70%\n",
            "Epoch 40/50, Loss: 219.0079, Train Acc: 90.21%, Test Acc: 86.03%\n",
            "Epoch 41/50, Loss: 218.1465, Train Acc: 90.21%, Test Acc: 86.03%\n",
            "Epoch 42/50, Loss: 216.5523, Train Acc: 90.42%, Test Acc: 86.42%\n",
            "Epoch 43/50, Loss: 210.0425, Train Acc: 90.75%, Test Acc: 86.13%\n",
            "Epoch 44/50, Loss: 212.9874, Train Acc: 90.55%, Test Acc: 86.27%\n",
            "Epoch 45/50, Loss: 214.0292, Train Acc: 90.48%, Test Acc: 85.99%\n",
            "Epoch 46/50, Loss: 213.8329, Train Acc: 90.49%, Test Acc: 86.39%\n",
            "Epoch 47/50, Loss: 213.1080, Train Acc: 90.46%, Test Acc: 86.25%\n",
            "Epoch 48/50, Loss: 209.4989, Train Acc: 90.72%, Test Acc: 86.37%\n",
            "Epoch 49/50, Loss: 210.0958, Train Acc: 90.44%, Test Acc: 86.10%\n",
            "Epoch 50/50, Loss: 212.1637, Train Acc: 90.45%, Test Acc: 86.53%\n"
          ]
        }
      ]
    },
    {
      "cell_type": "code",
      "source": [],
      "metadata": {
        "id": "0YXrv9FkL2Jx"
      },
      "execution_count": null,
      "outputs": []
    }
  ]
}